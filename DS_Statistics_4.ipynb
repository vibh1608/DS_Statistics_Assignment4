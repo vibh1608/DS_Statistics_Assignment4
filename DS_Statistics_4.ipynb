{
 "cells": [
  {
   "cell_type": "code",
   "execution_count": 25,
   "metadata": {},
   "outputs": [],
   "source": [
    "import numpy as np           #importing numpy package\n",
    "import pandas as pd          #importing pandas package"
   ]
  },
  {
   "cell_type": "code",
   "execution_count": 28,
   "metadata": {},
   "outputs": [],
   "source": [
    "\"\"\"Problem Statement 1:\n",
    "Is gender independent of education level? A random sample of 395 people were\n",
    "surveyed and each person was asked to report the highest education level they\n",
    "obtained. The data that resulted from the survey is summarized in the following table:\n",
    "High School Bachelors Masters Ph.d. Total\n",
    "Female 60 54 46 41 201\n",
    "Male 40 44 53 57 194\n",
    "Total 100 98 99 98 395\n",
    "Question: Are gender and education level dependent at 5% level of significance? In\n",
    "other words, given the data collected above, is there a relationship between the gender\n",
    "of an individual and the level of education that they have obtained?\"\"\"\n",
    "\n",
    "#Solution : \n",
    "\n",
    "#This test is performed by using a Chi-square test of independence.\n",
    "\n",
    "#we can summarize two categorical variables within a two-way table, also called a r × c contingency table,\n",
    "                                                         # where r = number of rows, c = number of columns. \n",
    "#Our question of interest is “Are the two variables independent?”\n",
    "#This question is set up using the following hypothesis statements:\n",
    "\n",
    "#Null Hypothesis:\n",
    "#The two categorical variables are independent\n",
    "\n",
    "#Alternative Hypothesis:\n",
    "#The two categorical variables are dependent"
   ]
  },
  {
   "cell_type": "code",
   "execution_count": 29,
   "metadata": {},
   "outputs": [],
   "source": [
    "#storing female and male surveyed records in respective list variables\n",
    "female_survey = [60, 54, 46, 41, 201]\n",
    "male_survey = [40, 44, 53, 57, 194]"
   ]
  },
  {
   "cell_type": "code",
   "execution_count": 30,
   "metadata": {},
   "outputs": [
    {
     "name": "stdout",
     "output_type": "stream",
     "text": [
      "[50.886, 49.868, 50.377, 49.868, 201.0]\n",
      "[49.114, 48.132, 48.623, 48.132, 194.0]\n"
     ]
    }
   ],
   "source": [
    "female_expected = []\n",
    "male_expected = []\n",
    "\n",
    "#sample size\n",
    "sample_size = sum(female_survey) + sum(male_survey)\n",
    "\n",
    "#calculating the expected values for each record\n",
    "for i in range(len(female_survey)):\n",
    "    female_expected.append(round(sum(female_survey)*(female_survey[i]+male_survey[i])/sample_size,3))\n",
    "    male_expected.append(round(sum(male_survey)*(female_survey[i]+male_survey[i])/sample_size,3))\n",
    "\n",
    "print(female_expected)\n",
    "print(male_expected)"
   ]
  },
  {
   "cell_type": "code",
   "execution_count": 31,
   "metadata": {},
   "outputs": [
    {
     "name": "stdout",
     "output_type": "stream",
     "text": [
      "8.006\n"
     ]
    }
   ],
   "source": [
    "# χ2=∑(O−E)2/E\n",
    "\n",
    "#calculating chi_square value\n",
    "chi_square = 0\n",
    "for i in range(len(female_survey)):\n",
    "    chi_square = chi_square + ((female_survey[i] - female_expected[i])**2)/female_expected[i]\n",
    "    chi_square = chi_square + ((male_survey[i] - male_expected[i])**2)/male_expected[i]\n",
    "\n",
    "    #printing the chi_square value\n",
    "print(round(chi_square,3))"
   ]
  },
  {
   "cell_type": "code",
   "execution_count": 8,
   "metadata": {},
   "outputs": [
    {
     "name": "stdout",
     "output_type": "stream",
     "text": [
      "The critical value of χ2 with 3 degree of freedom is 7.815. Since 8.006 > 7.815,\n",
      "      therefore we reject the null hypothesis and conclude that the education level\n",
      "      depends on gender at a 5% level of significance.\n"
     ]
    }
   ],
   "source": [
    "#We will compare the value of the test statistic to the critical value of χ2α with degree of freedom = (r - 1) (c - 1),\n",
    "#and reject the null hypothesis if χ2>χ2α.\n",
    "\n",
    "print(\"\"\"The critical value of χ2 with 3 degree of freedom is 7.815(using sci table). Since 8.006 > 7.815,\n",
    "      therefore we reject the null hypothesis and conclude that the education level\n",
    "      depends on gender at a 5% level of significance.\"\"\")"
   ]
  },
  {
   "cell_type": "code",
   "execution_count": 32,
   "metadata": {},
   "outputs": [
    {
     "name": "stdout",
     "output_type": "stream",
     "text": [
      "The result in APA format :\n",
      "F(2, 12)=9.75, p <0.05, η2=0.62\n"
     ]
    }
   ],
   "source": [
    "\"\"\"Problem Statement 2:\n",
    "Using the following data, perform a oneway analysis of variance using α=.05. Write up\n",
    "the results in APA format.\n",
    "\n",
    "[Group1: 51, 45, 33, 45, 67]\n",
    "[Group2: 23, 43, 23, 43, 45]\n",
    "[Group3: 56, 76, 74, 87, 56]\"\"\"\n",
    "\n",
    "#Solution:\n",
    "\n",
    "#Set up the Null and Alternate Hypothesis \n",
    "#H0: μ1 = μ2 = μ3 \n",
    "#Ha: μ1 ≠ μ2 ≠ μ3  \n",
    "\n",
    "#We also specify the  as well as the rejection criteria.\n",
    "#α = 0.05\n",
    "#Rejection criteria: K0.05 < F\n",
    "#This means that if the critical value of F from tables is less than the calculated value of F, we reject the null hypothesis.\n",
    "\n",
    "#The degrees of freedom are calculated using the formula below. \n",
    "#   dftotal =  n - 1 = 15 - 1 = 14\n",
    "#   dfwithin = n - k = 15 - 3 = 12\n",
    "#   dfbetween = k - 1 = 3 - 1 = 2\n",
    "\n",
    "#It is verified that :    dftotal = dfbetween + dfwithin\n",
    "\n",
    "\"\"\"See the excel file attched for the below details :\"\"\"\n",
    "\n",
    "#Sample means (x¯) for the groups: = 48.2, 35.4, 69.8\n",
    "\n",
    "#Sum of squared deviations from the mean (SS) for the groups:  612.8 515.2 732.8\n",
    "\n",
    "#variance of each group\n",
    "var1 = 612.8/(5-1)\n",
    "var2 = 515.2/(5-1)\n",
    "var3 = 732.8/(5-1)\n",
    "\n",
    "#mean of variance \n",
    "ms_error = (var1+var2+var3)/3\n",
    "\n",
    "#Calculating the remaining error (or within) terms for the ANOVA table:\n",
    "df_error = 15-3\n",
    "ss_error = ms_error/df_error\n",
    "\n",
    "#mean of all means \n",
    "grand_mean = (48.2+35.4+69.8)/3\n",
    "\n",
    "#Intermediate steps in calculating the variance of the sample means:\n",
    "ss_mean = 604.58\n",
    "var_mean = ss_mean/(3-1)\n",
    "ms_between = var_mean*5\n",
    "\n",
    "#Calculating the remaining between (or group) terms of the ANOVA table:\n",
    "df_groups = 3-1\n",
    "ss_group = ms_between*df_groups\n",
    "\n",
    "#Test statistic and critical value\n",
    "F = ms_between/ms_error\n",
    "\n",
    "#Fcritical(2,12)=3.89\n",
    "\"\"\"Decision: reject H0 \"\"\"\n",
    "\n",
    "#Effect size\n",
    "eta_square = ss_group/4883.7\n",
    "\n",
    "#APA writeup\n",
    "print(\"The result in APA format :\\nF(2, 12)=9.75, p <0.05, η2=\" + str(round(eta_square,2)))"
   ]
  },
  {
   "cell_type": "code",
   "execution_count": 33,
   "metadata": {},
   "outputs": [
    {
     "name": "stdout",
     "output_type": "stream",
     "text": [
      "F test value is : 4.0\n"
     ]
    }
   ],
   "source": [
    "\"\"\"Problem Statement 3:\n",
    "Calculate F Test for given 10, 20, 30, 40, 50 and 5,10,15, 20, 25.\n",
    "For 10, 20, 30, 40, 50:\"\"\"\n",
    "\n",
    "#Solution:\n",
    "g1 = [10, 20, 30, 40, 50]\n",
    "g2 = [5, 10, 15, 20, 25]\n",
    "\n",
    "#calculating variance of each group\n",
    "var_g1 = np.var(g1)\n",
    "var_g2 = np.var(g2)\n",
    "\n",
    "#F Test = (variance of 10, 20,30,40,50) / (variance of 5, 10, 15, 20, 25) \n",
    "f_test = var_g1/var_g2\n",
    "\n",
    "#printing the f_test value\n",
    "print(\"F test value is : \" + str(f_test))"
   ]
  },
  {
   "cell_type": "code",
   "execution_count": null,
   "metadata": {},
   "outputs": [],
   "source": []
  }
 ],
 "metadata": {
  "kernelspec": {
   "display_name": "Python 3",
   "language": "python",
   "name": "python3"
  },
  "language_info": {
   "codemirror_mode": {
    "name": "ipython",
    "version": 3
   },
   "file_extension": ".py",
   "mimetype": "text/x-python",
   "name": "python",
   "nbconvert_exporter": "python",
   "pygments_lexer": "ipython3",
   "version": "3.7.0"
  }
 },
 "nbformat": 4,
 "nbformat_minor": 2
}
